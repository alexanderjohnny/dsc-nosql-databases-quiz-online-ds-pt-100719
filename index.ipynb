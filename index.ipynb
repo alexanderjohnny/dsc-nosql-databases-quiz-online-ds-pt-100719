{
 "cells": [
  {
   "cell_type": "markdown",
   "metadata": {},
   "source": [
    "# NoSQL Databases - Quiz\n",
    "\n",
    "\n",
    "## Introduction\n",
    "\n",
    "In this lesson, you'll answer some common open-ended interview questions about NoSQL databases.\n",
    "\n",
    "\n",
    "## Question 1\n",
    "\n",
    "What is the difference between a NoSQL and a SQL database?  Which is better?\n",
    "\n",
    "Write your answer below this line: \n",
    "_______________________________________________________________________________________________________________________________\n",
    "\n",
    "The difference is NoSQL is used for data that is either really massive and needs to be run across multiple servers, or references data that wouldn't necessarily fit will within the frame of a solitary structure table or relational table structure used in SQL. For example, an ever-expanding chat log with no set length or hierarchy. Or a node structure of friends info connected on social media. \n",
    "\n",
    "\n",
    "\n",
    "\n",
    "\n",
    "## Question 2\n",
    "\n",
    "Describe a situation where a NoSQL database might be a better choice than a relational database, and explain your reasoning.\n",
    "\n",
    "Write your answer below this line: \n",
    "_______________________________________________________________________________________________________________________________\n",
    "\n",
    "A NoSQL db would be a better choice in an instance where there are documents stored within documents, such as the nested structure of a chatlog where chats are open-ended in length but could be stored with each chat msg and meta in a document, and then all stored in chronological order within another document for the whole chat, as opposed to a table with columns. It almost reminds me of html how things pieces are nested within the framework of divs. \n",
    "\n",
    "\n",
    "\n",
    "\n",
    "## Question 3\n",
    "\n",
    "How does MongoDB work? How is it different from a relational database?\n",
    "\n",
    "Write your answer below this line: \n",
    "_______________________________________________________________________________________________________________________________\n",
    "\n",
    "It basically works like I described above with the chat logs, compared to a relational database where data is set in 2-d tables of columns that are inter-related. \n",
    "\n",
    "\n",
    "\n",
    "\n",
    "\n",
    "\n",
    "## Question 4\n",
    "\n",
    "What is fault tolerance, and what does it have to do with Resilient Distributed Datasets?\n",
    "\n",
    "Write your answer below this line: \n",
    "_______________________________________________________________________________________________________________________________\n",
    "\n",
    "Fault tolerance is when you are working with data distributed over multiple servers and if one server goes down during a query, instead of not accounting for the data that should have been pulled from the down server, it will be pulled from backups of that server data stored on the other servers. \n",
    "\n",
    "\n",
    "\n",
    "\n",
    "\n",
    "\n",
    "## Question 5\n",
    "\n",
    "What is MapReduce? How is it related to Hadoop?\n",
    "\n",
    "Write your answer below this line: \n",
    "_______________________________________________________________________________________________________________________________\n",
    "\n",
    "MapReduce is how you are running the query at the same time on each server (the map part) and then each of these results is combined into a single aggregate (the reduce step) which reduces the amount of time it would have taken compared to querying through the entire data set on one single server process.\n",
    "\n",
    "\n",
    "## Summary\n",
    "\n",
    "\n",
    "In this lesson, we reviewed some common NoSQL interview questions. "
   ]
  }
 ],
 "metadata": {
  "kernelspec": {
   "display_name": "Python 3",
   "language": "python",
   "name": "python3"
  },
  "language_info": {
   "codemirror_mode": {
    "name": "ipython",
    "version": 3
   },
   "file_extension": ".py",
   "mimetype": "text/x-python",
   "name": "python",
   "nbconvert_exporter": "python",
   "pygments_lexer": "ipython3",
   "version": "3.6.9"
  },
  "toc": {
   "base_numbering": 1,
   "nav_menu": {},
   "number_sections": true,
   "sideBar": true,
   "skip_h1_title": false,
   "title_cell": "Table of Contents",
   "title_sidebar": "Contents",
   "toc_cell": false,
   "toc_position": {},
   "toc_section_display": true,
   "toc_window_display": true
  },
  "varInspector": {
   "cols": {
    "lenName": 16,
    "lenType": 16,
    "lenVar": 40
   },
   "kernels_config": {
    "python": {
     "delete_cmd_postfix": "",
     "delete_cmd_prefix": "del ",
     "library": "var_list.py",
     "varRefreshCmd": "print(var_dic_list())"
    },
    "r": {
     "delete_cmd_postfix": ") ",
     "delete_cmd_prefix": "rm(",
     "library": "var_list.r",
     "varRefreshCmd": "cat(var_dic_list()) "
    }
   },
   "types_to_exclude": [
    "module",
    "function",
    "builtin_function_or_method",
    "instance",
    "_Feature"
   ],
   "window_display": false
  }
 },
 "nbformat": 4,
 "nbformat_minor": 2
}
